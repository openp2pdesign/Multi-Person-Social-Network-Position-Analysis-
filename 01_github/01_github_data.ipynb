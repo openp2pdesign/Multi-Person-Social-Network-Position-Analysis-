{
 "cells": [
  {
   "cell_type": "markdown",
   "metadata": {},
   "source": [
    "# 01 Retrieve data from Github"
   ]
  },
  {
   "cell_type": "markdown",
   "metadata": {},
   "source": [
    "## Import modules"
   ]
  },
  {
   "cell_type": "code",
   "execution_count": null,
   "metadata": {},
   "outputs": [],
   "source": [
    "import networkx as nx\n",
    "import pandas as pd\n",
    "# Import the platform_analysis libraries\n",
    "import platform_analysis.github_analysis as github\n",
    "import platform_analysis.sna as sna"
   ]
  },
  {
   "cell_type": "markdown",
   "metadata": {},
   "source": [
    "## Get & save data from GitHub"
   ]
  },
  {
   "cell_type": "code",
   "execution_count": null,
   "metadata": {},
   "outputs": [],
   "source": [
    "# Repo Configuration\n",
    "repository=\"fablabs.io\"\n",
    "username=\"fablabbcn\"\n",
    "userlogin = \"openp2pdesign\"\n",
    "token = \"\" # Get the Github token from https://github.com/settings/tokens"
   ]
  },
  {
   "cell_type": "code",
   "execution_count": null,
   "metadata": {
    "scrolled": true
   },
   "outputs": [],
   "source": [
    "# Get the data from GitHub\n",
    "repo = github.github_analysis(\n",
    "    repository=repository,\n",
    "    username=username,\n",
    "    userlogin=userlogin,\n",
    "    token=token,\n",
    "    path=\"\") # Clone the repo first and add the local path"
   ]
  },
  {
   "cell_type": "code",
   "execution_count": null,
   "metadata": {},
   "outputs": [],
   "source": [
    "# Save data without self-loops\n",
    "sna.save_graph(repo, \"data/repo.graphml\", self_loops=False)"
   ]
  },
  {
   "cell_type": "markdown",
   "metadata": {},
   "source": [
    "## Load data locally if already retrieved from GitHub"
   ]
  },
  {
   "cell_type": "code",
   "execution_count": null,
   "metadata": {},
   "outputs": [],
   "source": [
    "# Load the data, in case we already have it\n",
    "# repo = nx.read_graphml(\"data/repo.graphml\")"
   ]
  },
  {
   "cell_type": "markdown",
   "metadata": {},
   "source": [
    "## Transform into csv and save files"
   ]
  },
  {
   "cell_type": "code",
   "execution_count": null,
   "metadata": {},
   "outputs": [],
   "source": [
    "# Remove self-loops (a user interacting with herself/himself)\n",
    "self_loops_edges = repo.selfloop_edges(keys=True, data=True)\n",
    "repo.remove_edges_from(self_loops_edges)"
   ]
  },
  {
   "cell_type": "code",
   "execution_count": null,
   "metadata": {},
   "outputs": [],
   "source": [
    "# Transform the graph data into pandas time series\n",
    "data = sna.graph_to_pandas_time_series(repo)"
   ]
  },
  {
   "cell_type": "code",
   "execution_count": null,
   "metadata": {},
   "outputs": [],
   "source": [
    "data.head()"
   ]
  },
  {
   "cell_type": "code",
   "execution_count": null,
   "metadata": {},
   "outputs": [],
   "source": [
    "# Do a first time series analysis\n",
    "time_data = sna.time_analysis(data=data, focus=\"global\", interaction=\"0\", structure=\"separated\")"
   ]
  },
  {
   "cell_type": "code",
   "execution_count": null,
   "metadata": {},
   "outputs": [],
   "source": [
    "time_data.head()"
   ]
  },
  {
   "cell_type": "code",
   "execution_count": null,
   "metadata": {},
   "outputs": [],
   "source": [
    "# Get data of single users\n",
    "user_data = sna.time_analysis(data=data, focus=\"user\", interaction=\"0\", structure=\"separated\")"
   ]
  },
  {
   "cell_type": "code",
   "execution_count": null,
   "metadata": {},
   "outputs": [],
   "source": [
    "# Save Data\n",
    "time_data.to_csv(\"data/time_data.csv\", encoding='utf-8')\n",
    "data.to_csv(\"data/data.csv\", encoding='utf-8')\n",
    "user_data.to_csv(\"data/user_data.csv\", encoding='utf-8')"
   ]
  }
 ],
 "metadata": {
  "kernelspec": {
   "display_name": "Python 3 (ipykernel)",
   "language": "python",
   "name": "python3"
  },
  "language_info": {
   "codemirror_mode": {
    "name": "ipython",
    "version": 3
   },
   "file_extension": ".py",
   "mimetype": "text/x-python",
   "name": "python",
   "nbconvert_exporter": "python",
   "pygments_lexer": "ipython3",
   "version": "3.13.1"
  }
 },
 "nbformat": 4,
 "nbformat_minor": 4
}
