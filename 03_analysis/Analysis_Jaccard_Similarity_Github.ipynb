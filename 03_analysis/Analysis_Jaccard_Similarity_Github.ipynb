{
  "cells": [
    {
      "cell_type": "markdown",
      "metadata": {
        "id": "98GMr-LG92Uv"
      },
      "source": [
        "# Analysis: Jaccard Similarity (GITHUB)"
      ]
    },
    {
      "cell_type": "code",
      "source": [
        "# Using graph-tool in Google Colab\n",
        "!pip install -q condacolab\n",
        "import condacolab\n",
        "condacolab.install()\n",
        "!mamba install -q graph-tool"
      ],
      "metadata": {
        "colab": {
          "base_uri": "https://localhost:8080/"
        },
        "id": "kYbj77_r-EZU",
        "outputId": "57a61b37-f738-47af-86c4-fc4567ba7afe"
      },
      "execution_count": 1,
      "outputs": [
        {
          "output_type": "stream",
          "name": "stdout",
          "text": [
            "✨🍰✨ Everything looks OK!\n"
          ]
        }
      ]
    },
    {
      "cell_type": "code",
      "execution_count": 2,
      "metadata": {
        "id": "ESDUsuZA92Uw"
      },
      "outputs": [],
      "source": [
        "import graph_tool.all as gt\n",
        "import networkx as nx\n",
        "import matplotlib.pyplot as plt\n",
        "import matplotlib\n",
        "import seaborn\n",
        "import pandas as pd\n",
        "import numpy as np"
      ]
    },
    {
      "cell_type": "code",
      "execution_count": 3,
      "metadata": {
        "id": "fq0Mgqns92Ux"
      },
      "outputs": [],
      "source": [
        "pd.set_option('display.max_columns', None) # Display all the columns\n",
        "\n",
        "# Set seaborn style\n",
        "seaborn.set_style(\"whitegrid\")\n",
        "seaborn.set_context(\"poster\")\n",
        "\n",
        "# Configure font\n",
        "#matplotlib.rcParams['font.sans-serif'] = \"Fira Sans\"\n",
        "#matplotlib.rcParams['font.family'] = \"sans-serif\""
      ]
    },
    {
      "cell_type": "code",
      "execution_count": 4,
      "metadata": {
        "id": "6iJoeyiH92Ux"
      },
      "outputs": [],
      "source": [
        "first_person_color = '#fa824c'\n",
        "second_person_color = '#00bdbf'\n",
        "third_person_color = '#f3f1e9'"
      ]
    },
    {
      "cell_type": "code",
      "execution_count": 5,
      "metadata": {
        "id": "qKqnFa2z92Ux"
      },
      "outputs": [],
      "source": [
        "# Load graph\n",
        "g = gt.load_graph(\"data/github.graphml\", fmt='graphml')"
      ]
    },
    {
      "cell_type": "code",
      "execution_count": 6,
      "metadata": {
        "id": "ME6VdVQX92Ux",
        "colab": {
          "base_uri": "https://localhost:8080/"
        },
        "outputId": "e97b38a5-3bb4-4394-98e3-b04e123d4ee7"
      },
      "outputs": [
        {
          "output_type": "stream",
          "name": "stdout",
          "text": [
            "_graphml_vertex_id     (vertex)  (type: string)\n",
            "label                  (vertex)  (type: string)\n",
            "_graphml_edge_id       (edge)    (type: string)\n",
            "weight                 (edge)    (type: long double)\n"
          ]
        }
      ],
      "source": [
        "# See all properties\n",
        "g.list_properties()"
      ]
    },
    {
      "cell_type": "code",
      "execution_count": 7,
      "metadata": {
        "id": "VYaGV7De92Ux"
      },
      "outputs": [],
      "source": [
        "user = \"openp2pdesign\"\n",
        "usern = 0"
      ]
    },
    {
      "cell_type": "code",
      "execution_count": 8,
      "metadata": {
        "id": "ELXFMJ5Y92Ux",
        "colab": {
          "base_uri": "https://localhost:8080/"
        },
        "outputId": "dbf36c0d-ef9c-496a-c5ef-862f8140a290"
      },
      "outputs": [
        {
          "output_type": "stream",
          "name": "stdout",
          "text": [
            "3\n"
          ]
        }
      ],
      "source": [
        "# Get my node\n",
        "for v in g.vertices():\n",
        "    a = g.vp.label[g.vertex(v)]\n",
        "    if (a == user):\n",
        "        print(v)\n",
        "        usern = v"
      ]
    },
    {
      "cell_type": "code",
      "execution_count": 9,
      "metadata": {
        "id": "utSiI4YB92Uy",
        "colab": {
          "base_uri": "https://localhost:8080/"
        },
        "outputId": "0c6a6ec0-f7aa-4218-8053-5adca97f770f"
      },
      "outputs": [
        {
          "output_type": "stream",
          "name": "stdout",
          "text": [
            "openp2pdesign\n"
          ]
        }
      ],
      "source": [
        "print(g.vp.label[g.vertex(usern)])"
      ]
    },
    {
      "cell_type": "code",
      "execution_count": 10,
      "metadata": {
        "id": "WfR4fw7J92Uy"
      },
      "outputs": [],
      "source": [
        "# Calculate similarity\n",
        "s = gt.vertex_similarity(g, \"jaccard\")"
      ]
    },
    {
      "cell_type": "code",
      "execution_count": 11,
      "metadata": {
        "id": "6hR3eQJT92Uy"
      },
      "outputs": [],
      "source": [
        "# Make this an internal property\n",
        "jprop = g.new_vertex_property(\"double\")\n",
        "g.vertex_properties[\"jaccard_\"+user] = jprop"
      ]
    },
    {
      "cell_type": "code",
      "execution_count": 12,
      "metadata": {
        "id": "Lt_RKjdG92Uy"
      },
      "outputs": [],
      "source": [
        "# Associate the value of Jaccard's similarity relative to my node to all nodes\n",
        "for i,k in enumerate(s[usern].a):\n",
        "    v = g.vertex(i)\n",
        "    g.vp[\"jaccard_\"+user][i] = k"
      ]
    },
    {
      "cell_type": "code",
      "execution_count": 13,
      "metadata": {
        "id": "2dM8D3ym92Uy"
      },
      "outputs": [],
      "source": [
        "# Save the graph\n",
        "g.save(\"data/\"+user+\"-jaccard_github.graphml\")"
      ]
    },
    {
      "cell_type": "code",
      "execution_count": 14,
      "metadata": {
        "id": "DuRMu6gK92Uy"
      },
      "outputs": [],
      "source": [
        "ng = nx.read_graphml(\"data/\"+user+\"-jaccard_github.graphml\")"
      ]
    },
    {
      "cell_type": "code",
      "execution_count": 15,
      "metadata": {
        "id": "Tafm63lg92Uy"
      },
      "outputs": [],
      "source": [
        "df = pd.DataFrame.from_dict(dict(ng.nodes(data=True)), orient='index')"
      ]
    },
    {
      "cell_type": "code",
      "execution_count": 16,
      "metadata": {
        "id": "Uy1nhDXJ92Uy"
      },
      "outputs": [],
      "source": [
        "# df.head()"
      ]
    },
    {
      "cell_type": "code",
      "execution_count": 17,
      "metadata": {
        "id": "BABcx5FY92Uy"
      },
      "outputs": [],
      "source": [
        "df.index.rename('Id', inplace=True)"
      ]
    },
    {
      "cell_type": "code",
      "execution_count": 18,
      "metadata": {
        "id": "NjktRRNH92Uy"
      },
      "outputs": [],
      "source": [
        "df.rename(columns={\"label\": \"Label\"}, inplace=True)"
      ]
    },
    {
      "cell_type": "code",
      "execution_count": 19,
      "metadata": {
        "id": "e555I8Ku92Uy"
      },
      "outputs": [],
      "source": [
        "df.to_csv(\"data/\"+user+\"-jaccard_similarity_github.csv\")"
      ]
    },
    {
      "cell_type": "code",
      "execution_count": 20,
      "metadata": {
        "id": "B1DNSb-692Uy",
        "colab": {
          "base_uri": "https://localhost:8080/",
          "height": 611
        },
        "outputId": "d78d4e24-abf6-4030-80d9-329531215e8c"
      },
      "outputs": [
        {
          "output_type": "display_data",
          "data": {
            "text/plain": [
              "<Figure size 1800x600 with 1 Axes>"
            ],
            "image/png": "[encoded data removed]"
          },
          "metadata": {}
        }
      ],
      "source": [
        "# Get the author's position\n",
        "author = df.loc[df['Label'] == \"openp2pdesign\"]\n",
        "# Plot the data\n",
        "ax = df[\"jaccard_\"+user].plot(kind=\"hist\", figsize=(18,6), bins=100, color=third_person_color, edgecolor='black', legend=False)\n",
        "ax.axvline(author.iloc[0][\"jaccard_\"+user], color=first_person_color)\n",
        "plt.ylabel('Accounts', fontsize=16)\n",
        "plt.xlabel('Similarity', fontsize=16)\n",
        "plt.title(\"Jaccard similarity distribution of @\"+user, fontsize=18, y=1.02)\n",
        "plt.savefig(\"png/similarity_1st2ndperson-GITHUB.png\", format='png', dpi=300, bbox_inches=\"tight\")\n",
        "plt.savefig(\"svg/similarity_1st2ndperson-GITHUB.svg\", bbox_inches=\"tight\")"
      ]
    },
    {
      "cell_type": "code",
      "execution_count": 20,
      "metadata": {
        "id": "rco4gkvJ92Uy"
      },
      "outputs": [],
      "source": []
    }
  ],
  "metadata": {
    "kernelspec": {
      "display_name": "Python 3 (ipykernel)",
      "language": "python",
      "name": "python3"
    },
    "language_info": {
      "codemirror_mode": {
        "name": "ipython",
        "version": 3
      },
      "file_extension": ".py",
      "mimetype": "text/x-python",
      "name": "python",
      "nbconvert_exporter": "python",
      "pygments_lexer": "ipython3",
      "version": "3.13.1"
    },
    "colab": {
      "provenance": []
    }
  },
  "nbformat": 4,
  "nbformat_minor": 0
}